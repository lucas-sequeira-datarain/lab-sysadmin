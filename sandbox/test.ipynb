{
 "cells": [
  {
   "cell_type": "code",
   "execution_count": 1,
   "metadata": {},
   "outputs": [
    {
     "ename": "SyntaxError",
     "evalue": "invalid syntax (Temp/ipykernel_5532/745888840.py, line 1)",
     "output_type": "error",
     "traceback": [
      "\u001b[1;36m  File \u001b[1;32m\"C:\\Users\\Lucas\\AppData\\Local\\Temp/ipykernel_5532/745888840.py\"\u001b[1;36m, line \u001b[1;32m1\u001b[0m\n\u001b[1;33m    curl -H \"lab-sysadmin.belinelo.com.br\" http://lsequeira-alb-143825036.us-east-1.elb.amazonaws.com\u001b[0m\n\u001b[1;37m            ^\u001b[0m\n\u001b[1;31mSyntaxError\u001b[0m\u001b[1;31m:\u001b[0m invalid syntax\n"
     ]
    }
   ],
   "source": [
    "curl -H \"lab-sysadmin.belinelo.com.br\" http://lsequeira-alb-143825036.us-east-1.elb.amazonaws.com"
   ]
  },
  {
   "cell_type": "code",
   "execution_count": 2,
   "metadata": {},
   "outputs": [
    {
     "ename": "SyntaxError",
     "evalue": "invalid syntax (Temp/ipykernel_5532/3076753727.py, line 1)",
     "output_type": "error",
     "traceback": [
      "\u001b[1;36m  File \u001b[1;32m\"C:\\Users\\Lucas\\AppData\\Local\\Temp/ipykernel_5532/3076753727.py\"\u001b[1;36m, line \u001b[1;32m1\u001b[0m\n\u001b[1;33m    curl -H \"http://lsequeira-alb-143825036.us-east-1.elb.amazonaws.com\" lab-sysadmin.belinelo.com.br\u001b[0m\n\u001b[1;37m            ^\u001b[0m\n\u001b[1;31mSyntaxError\u001b[0m\u001b[1;31m:\u001b[0m invalid syntax\n"
     ]
    }
   ],
   "source": [
    "curl -H \"http://lsequeira-alb-143825036.us-east-1.elb.amazonaws.com\" lab-sysadmin.belinelo.com.br"
   ]
  },
  {
   "cell_type": "code",
   "execution_count": 3,
   "metadata": {},
   "outputs": [
    {
     "ename": "SyntaxError",
     "evalue": "invalid syntax (Temp/ipykernel_5532/889079211.py, line 1)",
     "output_type": "error",
     "traceback": [
      "\u001b[1;36m  File \u001b[1;32m\"C:\\Users\\Lucas\\AppData\\Local\\Temp/ipykernel_5532/889079211.py\"\u001b[1;36m, line \u001b[1;32m1\u001b[0m\n\u001b[1;33m    curl -I http://lsequeira-alb-143825036.us-east-1.elb.amazonaws.com/ --header Host:\u001b[0m\n\u001b[1;37m            ^\u001b[0m\n\u001b[1;31mSyntaxError\u001b[0m\u001b[1;31m:\u001b[0m invalid syntax\n"
     ]
    }
   ],
   "source": [
    "curl -I http://lsequeira-alb-143825036.us-east-1.elb.amazonaws.com/ --header Host:  "
   ]
  },
  {
   "cell_type": "code",
   "execution_count": 4,
   "metadata": {},
   "outputs": [
    {
     "ename": "SyntaxError",
     "evalue": "invalid syntax (Temp/ipykernel_5532/4282532255.py, line 1)",
     "output_type": "error",
     "traceback": [
      "\u001b[1;36m  File \u001b[1;32m\"C:\\Users\\Lucas\\AppData\\Local\\Temp/ipykernel_5532/4282532255.py\"\u001b[1;36m, line \u001b[1;32m1\u001b[0m\n\u001b[1;33m    curl --header \"Host: lab-sysadmin.belinelo.com.br\" http://lsequeira-alb-143825036.us-east-1.elb.amazonaws.com/\u001b[0m\n\u001b[1;37m                  ^\u001b[0m\n\u001b[1;31mSyntaxError\u001b[0m\u001b[1;31m:\u001b[0m invalid syntax\n"
     ]
    }
   ],
   "source": [
    "curl --header \"Host: lab-sysadmin.belinelo.com.br\" http://lsequeira-alb-143825036.us-east-1.elb.amazonaws.com/"
   ]
  },
  {
   "cell_type": "code",
   "execution_count": null,
   "metadata": {},
   "outputs": [],
   "source": [
    "curl --connect-to lab-sysadmin.belinelo.com.br:80 http://lsequeira-alb-143825036.us-east-1.elb.amazonaws.com/"
   ]
  },
  {
   "cell_type": "code",
   "execution_count": null,
   "metadata": {},
   "outputs": [],
   "source": [
    "curl --resolve lab-sysadmin.belinelo.com.br:10.0.1.172 http://lsequeira-alb-143825036.us-east-1.elb.amazonaws.com/"
   ]
  }
 ],
 "metadata": {
  "interpreter": {
   "hash": "0e2e997cd3a792921317913cac351a74ebb59f4651230ba865e8da13a82508e0"
  },
  "kernelspec": {
   "display_name": "Python 3.9.7 ('dev')",
   "language": "python",
   "name": "python3"
  },
  "language_info": {
   "codemirror_mode": {
    "name": "ipython",
    "version": 3
   },
   "file_extension": ".py",
   "mimetype": "text/x-python",
   "name": "python",
   "nbconvert_exporter": "python",
   "pygments_lexer": "ipython3",
   "version": "3.9.7"
  },
  "orig_nbformat": 4
 },
 "nbformat": 4,
 "nbformat_minor": 2
}
